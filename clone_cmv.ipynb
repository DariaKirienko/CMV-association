{
 "cells": [
  {
   "cell_type": "code",
   "execution_count": null,
   "metadata": {},
   "outputs": [],
   "source": [
    "import pandas as pd\n",
    "import os \n",
    "\n",
    "public = pd.read_csv('D:\\coder\\M_projects_Python\\proba\\public_clones.txt', sep='\\t', index_col = False)\n",
    "met_data = pd.read_csv('D:\\coder\\M_projects_Python\\proba\\metadata.txt', sep='\\t', index_col = False)\n",
    "\n",
    "\n",
    "pub_cdr3 = list(public['cdr3aa']) \n",
    "met_dict = dict(zip(list(met_data['file_name']), list(met_data['cmv'])))\n",
    "\n",
    "\n",
    "def read_col(file, n):                                                         #открывает файл, генерирует список из данных n-ого столбца    \n",
    "    result = []                                     \n",
    "    with open(file) as infile:\n",
    "        for line in infile:\n",
    "            result.append((line.split()[n]))\n",
    "    return result        \n",
    "\n",
    "\n",
    "df_col = [0]*len(pub_cdr3)\n",
    "\n",
    "df = pd.DataFrame({'fmin' : df_col, 'nfmin' : df_col, 'fplus' : df_col, 'nfplus' : df_col}, \n",
    "                  index = pub_cdr3)\n",
    "\n",
    "for entry in pub_cdr3:\n",
    "    for filename in os.listdir():\n",
    "        if entry in read_col(filename, 3):\n",
    "            if met_dict[os.path.basename(filename)]== '+':\n",
    "                df.loc[entry, 'fplus'] += 1\n",
    "            if met_dict[os.path.basename(filename)]== '-':\n",
    "                 df.loc[entry, 'fmin'] += 1\n",
    "        else: \n",
    "            if met_dict[os.path.basename(filename)]== '+':\n",
    "                df.loc[entry, 'nfplus'] += 1\n",
    "            if met_dict[os.path.basename(filename)]== '-':\n",
    "                 df.loc[entry, 'nfmin'] += 1\n",
    "               "
   ]
  }
 ],
 "metadata": {
  "kernelspec": {
   "display_name": "Python 3",
   "language": "python",
   "name": "python3"
  },
  "language_info": {
   "codemirror_mode": {
    "name": "ipython",
    "version": 3
   },
   "file_extension": ".py",
   "mimetype": "text/x-python",
   "name": "python",
   "nbconvert_exporter": "python",
   "pygments_lexer": "ipython3",
   "version": "3.8.6"
  }
 },
 "nbformat": 4,
 "nbformat_minor": 4
}
