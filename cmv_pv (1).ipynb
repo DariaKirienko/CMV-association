{
 "cells": [
  {
   "cell_type": "code",
   "execution_count": null,
   "metadata": {},
   "outputs": [],
   "source": [
    "import pandas as pd\n",
    "import scipy.stats as stats\n",
    "import statsmodels.stats.multitest as smt\n",
    "\n",
    "\n",
    "cmv = pd.read_csv('D:\\coder\\M_projects_Python\\Mikhail_Shugai\\cmv_clones_.txt', sep=',')\n",
    "cmv.columns = ['cdr3aa','f+CMV-', 'n_f+CMV-', 'f+CMV+', 'n_f+CMV+' ]\n",
    "cmv = cmv.set_index('cdr3aa')\n",
    "\n",
    "\n",
    "cdr3 = list(cmv.index) \n",
    "\n",
    "\n",
    "df_col = [0]*len(cdr3)\n",
    "df_pv = pd.DataFrame({'odds_ratio' : df_col, 'p-value' : df_col, 'p-value_adjust' : df_col}, index = cdr3)\n",
    "\n",
    "\n",
    "for item in cdr3:                                                              #Odds ratio, Fisher test\n",
    "    a =  cmv.loc[item, 'f+CMV+']\n",
    "    b = cmv.loc[item, 'f+CMV-']\n",
    "    c = cmv.loc[item, 'n_f+CMV+']\n",
    "    d = cmv.loc[item, 'n_f+CMV-']\n",
    "    lst = [[a,b],[c,d]]\n",
    "    oddsratio, pvalue = stats.fisher_exact(lst)\n",
    "    df_pv.loc[item, 'odds_ratio'] = oddsratio\n",
    "    df_pv.loc[item, 'p-value'] =  pvalue\n",
    "\n",
    "  \n",
    "\n",
    "\n",
    "df = df_pv.drop(df_pv[df_pv.odds_ratio < 1.1].index)                           #Drop Oddds ratio < 1.1\n",
    "\n",
    "\n",
    "r, pc, aS, aB =  smt.multipletests(list(df['p-value']), alpha=0.05,            #p-value adjustment\n",
    "         method='fdr_bh', is_sorted=False, returnsorted=False)  \n",
    "df['p-value_adjust'] = pc\n",
    "\n",
    "\n",
    "df_finish = df.sort_values('p-value_adjust', kind='mergesort')\n",
    "df_finish.index.name = 'cdr3aa'\n",
    "df_finish = df_finish.round(5)\n",
    "\n",
    "df_finish.to_csv('cmv_pv.txt')\n"
   ]
  }
 ],
 "metadata": {
  "kernelspec": {
   "display_name": "Python 3",
   "language": "python",
   "name": "python3"
  },
  "language_info": {
   "codemirror_mode": {
    "name": "ipython",
    "version": 3
   },
   "file_extension": ".py",
   "mimetype": "text/x-python",
   "name": "python",
   "nbconvert_exporter": "python",
   "pygments_lexer": "ipython3",
   "version": "3.8.6"
  }
 },
 "nbformat": 4,
 "nbformat_minor": 4
}
